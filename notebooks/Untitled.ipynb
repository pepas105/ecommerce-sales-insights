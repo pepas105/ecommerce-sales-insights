{
 "cells": [
  {
   "cell_type": "markdown",
   "id": "01927178-2fb0-4450-9019-7beeeaff7dfa",
   "metadata": {},
   "source": [
    "# 02 - Data cleaning "
   ]
  },
  {
   "cell_type": "markdown",
   "id": "07e53daa-07c9-4a8b-bc03-fd5db9b1583d",
   "metadata": {},
   "source": [
    "### Load bronze stage data"
   ]
  },
  {
   "cell_type": "code",
   "execution_count": 8,
   "id": "dec1255e-e4cd-4d1f-9a59-7a6c24546705",
   "metadata": {},
   "outputs": [
    {
     "name": "stdout",
     "output_type": "stream",
     "text": [
      "Data loaded successfully.\n"
     ]
    }
   ],
   "source": [
    "import pandas as pd\n",
    "\n",
    "file_path = '../data/interim/01_bronze_intake.csv'\n",
    "df = pd.read_csv(file_path)\n",
    "print('Data loaded successfully.')"
   ]
  },
  {
   "cell_type": "markdown",
   "id": "b08ecb33-c54b-4ce7-af32-cfc58d0ae3e4",
   "metadata": {},
   "source": [
    "### Column cleanup \n",
    "> rename, remove empty, duplicated or constant columns."
   ]
  },
  {
   "cell_type": "markdown",
   "id": "16680472-0198-4b5d-88f1-2d56f6c028ef",
   "metadata": {},
   "source": [
    "In previous stage we determined coulums to be removed, namely `Row ID` and `Country`"
   ]
  },
  {
   "cell_type": "code",
   "execution_count": 14,
   "id": "d5e08128-958f-488a-93e1-a822f2449b3f",
   "metadata": {},
   "outputs": [],
   "source": [
    "df = df.drop(columns = ['Row ID','Country']).copy()\n",
    "print('Column removed succesfully')"
   ]
  },
  {
   "cell_type": "code",
   "execution_count": null,
   "id": "06fbb2eb-778f-4c02-a808-7dd19ccfb24a",
   "metadata": {},
   "outputs": [],
   "source": []
  }
 ],
 "metadata": {
  "kernelspec": {
   "display_name": "Python [conda env:base] *",
   "language": "python",
   "name": "conda-base-py"
  },
  "language_info": {
   "codemirror_mode": {
    "name": "ipython",
    "version": 3
   },
   "file_extension": ".py",
   "mimetype": "text/x-python",
   "name": "python",
   "nbconvert_exporter": "python",
   "pygments_lexer": "ipython3",
   "version": "3.12.7"
  }
 },
 "nbformat": 4,
 "nbformat_minor": 5
}
