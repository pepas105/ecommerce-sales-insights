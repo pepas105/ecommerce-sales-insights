{
 "cells": [
  {
   "cell_type": "markdown",
   "id": "f98bf946-1baa-40a5-a13f-e26013e6a5e6",
   "metadata": {},
   "source": [
    "# 03 - Feature Engineering"
   ]
  },
  {
   "cell_type": "markdown",
   "id": "371d7de4-86c7-4833-b403-3b26fafbd18c",
   "metadata": {},
   "source": [
    "## Overview\n",
    "1. **Load data:** Import dataset from the previous stage.\n",
    "2. **Additional features:** add new fetature columns for future analysis.\n",
    "3.  **Aggregated features:** generate aggregated features and key KPIs\n",
    "4.  **Save changes:** export featured version of the dataset to:  \n",
    "   `data/processed/03_gold_features.parquet`;  \n",
    "       export aggerated features to  \n",
    "    `/data/processed/03_gold_aggregated_kpis.csv`.\n",
    "    \n",
    "**Goal:** Enhance the cleaned dataset from the Silver stage with new analytical and business-relevant variables to support KPI calculation and downstream analysis."
   ]
  },
  {
   "cell_type": "markdown",
   "id": "1917b297-7c04-4025-bc73-ef8e600f25dc",
   "metadata": {},
   "source": [
    "### Load data\n",
    "> Import the Stage 02 Parquet file."
   ]
  },
  {
   "cell_type": "code",
   "execution_count": 4,
   "id": "afc5e1d2-0209-43b0-b06d-4fb4805a5bd7",
   "metadata": {},
   "outputs": [
    {
     "name": "stdout",
     "output_type": "stream",
     "text": [
      "Data loaded successfully.\n"
     ]
    },
    {
     "data": {
      "text/html": [
       "<div>\n",
       "<style scoped>\n",
       "    .dataframe tbody tr th:only-of-type {\n",
       "        vertical-align: middle;\n",
       "    }\n",
       "\n",
       "    .dataframe tbody tr th {\n",
       "        vertical-align: top;\n",
       "    }\n",
       "\n",
       "    .dataframe thead th {\n",
       "        text-align: right;\n",
       "    }\n",
       "</style>\n",
       "<table border=\"1\" class=\"dataframe\">\n",
       "  <thead>\n",
       "    <tr style=\"text-align: right;\">\n",
       "      <th></th>\n",
       "      <th>order_id</th>\n",
       "      <th>order_date</th>\n",
       "      <th>ship_date</th>\n",
       "      <th>ship_mode</th>\n",
       "      <th>customer_id</th>\n",
       "      <th>customer_name</th>\n",
       "      <th>segment</th>\n",
       "      <th>city</th>\n",
       "      <th>state</th>\n",
       "      <th>postal_code</th>\n",
       "      <th>region</th>\n",
       "      <th>product_id</th>\n",
       "      <th>category</th>\n",
       "      <th>sub_category</th>\n",
       "      <th>product_name</th>\n",
       "      <th>sales</th>\n",
       "      <th>quantity</th>\n",
       "      <th>discount</th>\n",
       "      <th>profit</th>\n",
       "    </tr>\n",
       "  </thead>\n",
       "  <tbody>\n",
       "    <tr>\n",
       "      <th>0</th>\n",
       "      <td>CA-2016-152156</td>\n",
       "      <td>2016-11-08</td>\n",
       "      <td>2016-11-11</td>\n",
       "      <td>Second Class</td>\n",
       "      <td>CG-12520</td>\n",
       "      <td>Claire Gute</td>\n",
       "      <td>Consumer</td>\n",
       "      <td>Henderson</td>\n",
       "      <td>Kentucky</td>\n",
       "      <td>42420</td>\n",
       "      <td>South</td>\n",
       "      <td>FUR-BO-10001798</td>\n",
       "      <td>Furniture</td>\n",
       "      <td>Bookcases</td>\n",
       "      <td>Bush Somerset Collection Bookcase</td>\n",
       "      <td>261.9600</td>\n",
       "      <td>2</td>\n",
       "      <td>0.00</td>\n",
       "      <td>41.9136</td>\n",
       "    </tr>\n",
       "    <tr>\n",
       "      <th>1</th>\n",
       "      <td>CA-2016-152156</td>\n",
       "      <td>2016-11-08</td>\n",
       "      <td>2016-11-11</td>\n",
       "      <td>Second Class</td>\n",
       "      <td>CG-12520</td>\n",
       "      <td>Claire Gute</td>\n",
       "      <td>Consumer</td>\n",
       "      <td>Henderson</td>\n",
       "      <td>Kentucky</td>\n",
       "      <td>42420</td>\n",
       "      <td>South</td>\n",
       "      <td>FUR-CH-10000454</td>\n",
       "      <td>Furniture</td>\n",
       "      <td>Chairs</td>\n",
       "      <td>Hon Deluxe Fabric Upholstered Stacking Chairs,...</td>\n",
       "      <td>731.9400</td>\n",
       "      <td>3</td>\n",
       "      <td>0.00</td>\n",
       "      <td>219.5820</td>\n",
       "    </tr>\n",
       "    <tr>\n",
       "      <th>2</th>\n",
       "      <td>CA-2016-138688</td>\n",
       "      <td>2016-06-12</td>\n",
       "      <td>2016-06-16</td>\n",
       "      <td>Second Class</td>\n",
       "      <td>DV-13045</td>\n",
       "      <td>Darrin Van Huff</td>\n",
       "      <td>Corporate</td>\n",
       "      <td>Los Angeles</td>\n",
       "      <td>California</td>\n",
       "      <td>90036</td>\n",
       "      <td>West</td>\n",
       "      <td>OFF-LA-10000240</td>\n",
       "      <td>Office Supplies</td>\n",
       "      <td>Labels</td>\n",
       "      <td>Self-Adhesive Address Labels for Typewriters b...</td>\n",
       "      <td>14.6200</td>\n",
       "      <td>2</td>\n",
       "      <td>0.00</td>\n",
       "      <td>6.8714</td>\n",
       "    </tr>\n",
       "    <tr>\n",
       "      <th>3</th>\n",
       "      <td>US-2015-108966</td>\n",
       "      <td>2015-10-11</td>\n",
       "      <td>2015-10-18</td>\n",
       "      <td>Standard Class</td>\n",
       "      <td>SO-20335</td>\n",
       "      <td>Sean O'Donnell</td>\n",
       "      <td>Consumer</td>\n",
       "      <td>Fort Lauderdale</td>\n",
       "      <td>Florida</td>\n",
       "      <td>33311</td>\n",
       "      <td>South</td>\n",
       "      <td>FUR-TA-10000577</td>\n",
       "      <td>Furniture</td>\n",
       "      <td>Tables</td>\n",
       "      <td>Bretford CR4500 Series Slim Rectangular Table</td>\n",
       "      <td>957.5775</td>\n",
       "      <td>5</td>\n",
       "      <td>0.45</td>\n",
       "      <td>-383.0310</td>\n",
       "    </tr>\n",
       "    <tr>\n",
       "      <th>4</th>\n",
       "      <td>US-2015-108966</td>\n",
       "      <td>2015-10-11</td>\n",
       "      <td>2015-10-18</td>\n",
       "      <td>Standard Class</td>\n",
       "      <td>SO-20335</td>\n",
       "      <td>Sean O'Donnell</td>\n",
       "      <td>Consumer</td>\n",
       "      <td>Fort Lauderdale</td>\n",
       "      <td>Florida</td>\n",
       "      <td>33311</td>\n",
       "      <td>South</td>\n",
       "      <td>OFF-ST-10000760</td>\n",
       "      <td>Office Supplies</td>\n",
       "      <td>Storage</td>\n",
       "      <td>Eldon Fold 'N Roll Cart System</td>\n",
       "      <td>22.3680</td>\n",
       "      <td>2</td>\n",
       "      <td>0.20</td>\n",
       "      <td>2.5164</td>\n",
       "    </tr>\n",
       "  </tbody>\n",
       "</table>\n",
       "</div>"
      ],
      "text/plain": [
       "         order_id order_date  ship_date       ship_mode customer_id  \\\n",
       "0  CA-2016-152156 2016-11-08 2016-11-11    Second Class    CG-12520   \n",
       "1  CA-2016-152156 2016-11-08 2016-11-11    Second Class    CG-12520   \n",
       "2  CA-2016-138688 2016-06-12 2016-06-16    Second Class    DV-13045   \n",
       "3  US-2015-108966 2015-10-11 2015-10-18  Standard Class    SO-20335   \n",
       "4  US-2015-108966 2015-10-11 2015-10-18  Standard Class    SO-20335   \n",
       "\n",
       "     customer_name    segment             city       state postal_code region  \\\n",
       "0      Claire Gute   Consumer        Henderson    Kentucky       42420  South   \n",
       "1      Claire Gute   Consumer        Henderson    Kentucky       42420  South   \n",
       "2  Darrin Van Huff  Corporate      Los Angeles  California       90036   West   \n",
       "3   Sean O'Donnell   Consumer  Fort Lauderdale     Florida       33311  South   \n",
       "4   Sean O'Donnell   Consumer  Fort Lauderdale     Florida       33311  South   \n",
       "\n",
       "        product_id         category sub_category  \\\n",
       "0  FUR-BO-10001798        Furniture    Bookcases   \n",
       "1  FUR-CH-10000454        Furniture       Chairs   \n",
       "2  OFF-LA-10000240  Office Supplies       Labels   \n",
       "3  FUR-TA-10000577        Furniture       Tables   \n",
       "4  OFF-ST-10000760  Office Supplies      Storage   \n",
       "\n",
       "                                        product_name     sales  quantity  \\\n",
       "0                  Bush Somerset Collection Bookcase  261.9600         2   \n",
       "1  Hon Deluxe Fabric Upholstered Stacking Chairs,...  731.9400         3   \n",
       "2  Self-Adhesive Address Labels for Typewriters b...   14.6200         2   \n",
       "3      Bretford CR4500 Series Slim Rectangular Table  957.5775         5   \n",
       "4                     Eldon Fold 'N Roll Cart System   22.3680         2   \n",
       "\n",
       "   discount    profit  \n",
       "0      0.00   41.9136  \n",
       "1      0.00  219.5820  \n",
       "2      0.00    6.8714  \n",
       "3      0.45 -383.0310  \n",
       "4      0.20    2.5164  "
      ]
     },
     "execution_count": 4,
     "metadata": {},
     "output_type": "execute_result"
    }
   ],
   "source": [
    "# Import Pandas\n",
    "import pandas as pd\n",
    "\n",
    "# Display all columns\n",
    "pd.set_option('display.max_columns', None)\n",
    "\n",
    "# Load bronze stage data\n",
    "file_path = '../data/interim/02_silver_cleaned.parquet'\n",
    "df = pd.read_parquet(file_path)\n",
    "\n",
    "# Check results\n",
    "print('Data loaded successfully.')\n",
    "df.head()"
   ]
  },
  {
   "cell_type": "markdown",
   "id": "768af9fe-81d0-44c4-abc5-bbb4f082ae9d",
   "metadata": {},
   "source": [
    "### Additional features\n",
    "> Add new columns to enrich the data for analysis and machine learning. "
   ]
  },
  {
   "cell_type": "markdown",
   "id": "26582ee8-a314-47c2-8755-c8402374f76f",
   "metadata": {},
   "source": [
    "Extract Year, quarter, month, day, and dow from `order_date` in order to capture potential time-based patterns"
   ]
  },
  {
   "cell_type": "code",
   "execution_count": 7,
   "id": "a98b8a60-3ec0-4c74-b16a-bbe03ea6630d",
   "metadata": {},
   "outputs": [
    {
     "data": {
      "text/html": [
       "<div>\n",
       "<style scoped>\n",
       "    .dataframe tbody tr th:only-of-type {\n",
       "        vertical-align: middle;\n",
       "    }\n",
       "\n",
       "    .dataframe tbody tr th {\n",
       "        vertical-align: top;\n",
       "    }\n",
       "\n",
       "    .dataframe thead th {\n",
       "        text-align: right;\n",
       "    }\n",
       "</style>\n",
       "<table border=\"1\" class=\"dataframe\">\n",
       "  <thead>\n",
       "    <tr style=\"text-align: right;\">\n",
       "      <th></th>\n",
       "      <th>order_id</th>\n",
       "      <th>order_date</th>\n",
       "      <th>ship_date</th>\n",
       "      <th>ship_mode</th>\n",
       "      <th>customer_id</th>\n",
       "      <th>customer_name</th>\n",
       "      <th>segment</th>\n",
       "      <th>city</th>\n",
       "      <th>state</th>\n",
       "      <th>postal_code</th>\n",
       "      <th>region</th>\n",
       "      <th>product_id</th>\n",
       "      <th>category</th>\n",
       "      <th>sub_category</th>\n",
       "      <th>product_name</th>\n",
       "      <th>sales</th>\n",
       "      <th>quantity</th>\n",
       "      <th>discount</th>\n",
       "      <th>profit</th>\n",
       "      <th>order_year</th>\n",
       "      <th>order_quarter</th>\n",
       "      <th>order_month</th>\n",
       "      <th>order_day</th>\n",
       "      <th>order_dow</th>\n",
       "    </tr>\n",
       "  </thead>\n",
       "  <tbody>\n",
       "    <tr>\n",
       "      <th>0</th>\n",
       "      <td>CA-2016-152156</td>\n",
       "      <td>2016-11-08</td>\n",
       "      <td>2016-11-11</td>\n",
       "      <td>Second Class</td>\n",
       "      <td>CG-12520</td>\n",
       "      <td>Claire Gute</td>\n",
       "      <td>Consumer</td>\n",
       "      <td>Henderson</td>\n",
       "      <td>Kentucky</td>\n",
       "      <td>42420</td>\n",
       "      <td>South</td>\n",
       "      <td>FUR-BO-10001798</td>\n",
       "      <td>Furniture</td>\n",
       "      <td>Bookcases</td>\n",
       "      <td>Bush Somerset Collection Bookcase</td>\n",
       "      <td>261.96</td>\n",
       "      <td>2</td>\n",
       "      <td>0.0</td>\n",
       "      <td>41.9136</td>\n",
       "      <td>2016</td>\n",
       "      <td>4</td>\n",
       "      <td>11</td>\n",
       "      <td>8</td>\n",
       "      <td>1</td>\n",
       "    </tr>\n",
       "  </tbody>\n",
       "</table>\n",
       "</div>"
      ],
      "text/plain": [
       "         order_id order_date  ship_date     ship_mode customer_id  \\\n",
       "0  CA-2016-152156 2016-11-08 2016-11-11  Second Class    CG-12520   \n",
       "\n",
       "  customer_name   segment       city     state postal_code region  \\\n",
       "0   Claire Gute  Consumer  Henderson  Kentucky       42420  South   \n",
       "\n",
       "        product_id   category sub_category                       product_name  \\\n",
       "0  FUR-BO-10001798  Furniture    Bookcases  Bush Somerset Collection Bookcase   \n",
       "\n",
       "    sales  quantity  discount   profit  order_year  order_quarter  \\\n",
       "0  261.96         2       0.0  41.9136        2016              4   \n",
       "\n",
       "   order_month  order_day  order_dow  \n",
       "0           11          8          1  "
      ]
     },
     "execution_count": 7,
     "metadata": {},
     "output_type": "execute_result"
    }
   ],
   "source": [
    "# Process order_date\n",
    "df['order_year'] = df['order_date'].dt.year\n",
    "df['order_quarter'] = df['order_date'].dt.quarter\n",
    "df['order_month'] = df['order_date'].dt.month\n",
    "df['order_day'] = df['order_date'].dt.day\n",
    "df['order_dow'] = df['order_date'].dt.dayofweek\n",
    "\n",
    "# Check results\n",
    "df.head(1)"
   ]
  },
  {
   "cell_type": "markdown",
   "id": "d0881890-0379-4e53-aca2-ae03af9dc6e5",
   "metadata": {},
   "source": [
    "Calculate shipping delay in days to support logistics performance analysis"
   ]
  },
  {
   "cell_type": "code",
   "execution_count": 9,
   "id": "7f075fc3-69e5-4171-9611-8171983a38ef",
   "metadata": {},
   "outputs": [
    {
     "data": {
      "text/plain": [
       "0    3\n",
       "1    3\n",
       "2    4\n",
       "3    7\n",
       "4    7\n",
       "Name: delay_in_days, dtype: int64"
      ]
     },
     "execution_count": 9,
     "metadata": {},
     "output_type": "execute_result"
    }
   ],
   "source": [
    "df['delay_in_days'] = (df.ship_date - df.order_date).dt.days\n",
    "\n",
    "df.delay_in_days.head()"
   ]
  },
  {
   "cell_type": "markdown",
   "id": "14b9942c-595b-4954-b057-2dff9d111dc7",
   "metadata": {},
   "source": [
    "Calculate profit margin to evaluate sales efficiency and profitability"
   ]
  },
  {
   "cell_type": "code",
   "execution_count": 11,
   "id": "000acd37-4c7b-49b8-a5fb-2995c3b9cda9",
   "metadata": {},
   "outputs": [
    {
     "data": {
      "text/plain": [
       "0    16.00\n",
       "1    30.00\n",
       "2    47.00\n",
       "3   -40.00\n",
       "4    11.25\n",
       "Name: profit_margin, dtype: float64"
      ]
     },
     "execution_count": 11,
     "metadata": {},
     "output_type": "execute_result"
    }
   ],
   "source": [
    "df['profit_margin'] = (df.profit / df.sales) * 100\n",
    "\n",
    "df.profit_margin.head()"
   ]
  },
  {
   "cell_type": "markdown",
   "id": "3f0ce535-b446-4937-aa8c-4c289c611b36",
   "metadata": {},
   "source": [
    "Create `has_discount` flag to identify discounted orders for segmentation and impact analysis"
   ]
  },
  {
   "cell_type": "code",
   "execution_count": 13,
   "id": "656b7387-68f5-4bd5-aaf5-cf3a83ef2204",
   "metadata": {},
   "outputs": [
    {
     "data": {
      "text/plain": [
       "0    0\n",
       "1    0\n",
       "2    0\n",
       "3    1\n",
       "4    1\n",
       "Name: has_discount, dtype: int32"
      ]
     },
     "execution_count": 13,
     "metadata": {},
     "output_type": "execute_result"
    }
   ],
   "source": [
    "df['has_discount'] = (df.discount > 0).astype(int)\n",
    "\n",
    "df.has_discount.head()"
   ]
  },
  {
   "cell_type": "markdown",
   "id": "0c537700-c2b9-4389-ba48-a706bf4f4a0b",
   "metadata": {},
   "source": [
    "Cost estimate"
   ]
  },
  {
   "cell_type": "code",
   "execution_count": 15,
   "id": "fd913e2f-4a4a-45da-863a-38e1b86f8ae3",
   "metadata": {},
   "outputs": [],
   "source": [
    "df['cost'] = df.sales - df.profit"
   ]
  },
  {
   "cell_type": "markdown",
   "id": "fd2ad56e-829b-49af-8053-90289dba52b7",
   "metadata": {},
   "source": [
    "### Aggregated features\n",
    "> Generate aggregated features and KPIs."
   ]
  },
  {
   "cell_type": "markdown",
   "id": "29d473dc-bd8d-48c2-a7f1-b288bdc8d2f1",
   "metadata": {},
   "source": [
    "Compute key aggregated KPIs: total revenue, total profit, average profit margin, repeat customer rate, and average shipping delay to assess overall business performance"
   ]
  },
  {
   "cell_type": "code",
   "execution_count": 18,
   "id": "21a31a59-941a-4306-9464-8f8ee2d2135b",
   "metadata": {},
   "outputs": [
    {
     "data": {
      "text/plain": [
       "total_revenue           2.297201e+06\n",
       "total_profit            2.863970e+05\n",
       "avg_profit_margin       1.203139e+01\n",
       "repeat_customer_rate    9.936948e-01\n",
       "avg_shipping_delay      3.958175e+00\n",
       "dtype: float64"
      ]
     },
     "execution_count": 18,
     "metadata": {},
     "output_type": "execute_result"
    }
   ],
   "source": [
    "# Calculate aggregated KPIs\n",
    "total_revenue = df.sales.sum() # Overall performance\n",
    "total_profit = df.profit.sum() # Profit summary\n",
    "avg_profit_margin = df.profit_margin.mean() # Benchmark for dashboard\n",
    "\n",
    "is_repeat_customer = (df.customer_id.value_counts() > 1) \n",
    "repeat_customer_rate = (is_repeat_customer).astype(int).sum() / is_repeat_customer.size # loyalty metric\n",
    "\n",
    "avg_shipping_delay = df.delay_in_days.mean() # SLA monitoring\n",
    "\n",
    "# Create summary series\n",
    "aggregated_kpis = pd.Series({\n",
    "    'total_revenue': total_revenue,\n",
    "    'total_profit': total_profit,\n",
    "    'avg_profit_margin': avg_profit_margin,\n",
    "    'repeat_customer_rate': repeat_customer_rate,\n",
    "    'avg_shipping_delay': avg_shipping_delay})\n",
    "\n",
    "aggregated_kpis"
   ]
  },
  {
   "cell_type": "code",
   "execution_count": 19,
   "id": "1c8cbf22-8de8-4286-95ca-d34b28be8f85",
   "metadata": {},
   "outputs": [
    {
     "data": {
      "text/plain": [
       "(9994, 28)"
      ]
     },
     "execution_count": 19,
     "metadata": {},
     "output_type": "execute_result"
    }
   ],
   "source": [
    "df.shape"
   ]
  },
  {
   "cell_type": "markdown",
   "id": "4b3c7943-1a77-40d5-a707-7ecfd58393ba",
   "metadata": {},
   "source": [
    "### Save changes \n",
    "> Scince stage is complete, export featured version of the dataset and aggregated features. "
   ]
  },
  {
   "cell_type": "markdown",
   "id": "c3b60915-383a-4975-8a22-358ad1460995",
   "metadata": {},
   "source": [
    "Convert dataset file format to Parquet to preserve dtypes."
   ]
  },
  {
   "cell_type": "code",
   "execution_count": 22,
   "id": "ede91cd4-8ee5-47bc-9db6-da86b11c5a3e",
   "metadata": {},
   "outputs": [
    {
     "name": "stdout",
     "output_type": "stream",
     "text": [
      "Featured copy is saved.\n",
      "Aggregated KPIs are saved.\n"
     ]
    }
   ],
   "source": [
    "df.to_parquet('../data/processed/03_gold_features.parquet', index = False)\n",
    "print('Featured copy is saved.')\n",
    "\n",
    "aggregated_kpis.to_csv('../data/processed/03_gold_aggregated_kpis.csv')\n",
    "print('Aggregated KPIs are saved.')"
   ]
  },
  {
   "cell_type": "markdown",
   "id": "01521aed-7ec3-4ab6-a866-2187817d0284",
   "metadata": {},
   "source": [
    "A summary of this stage is documented separately in `/reports/03_feature_engineering.md`."
   ]
  }
 ],
 "metadata": {
  "kernelspec": {
   "display_name": "Python [conda env:base] *",
   "language": "python",
   "name": "conda-base-py"
  },
  "language_info": {
   "codemirror_mode": {
    "name": "ipython",
    "version": 3
   },
   "file_extension": ".py",
   "mimetype": "text/x-python",
   "name": "python",
   "nbconvert_exporter": "python",
   "pygments_lexer": "ipython3",
   "version": "3.12.7"
  }
 },
 "nbformat": 4,
 "nbformat_minor": 5
}
