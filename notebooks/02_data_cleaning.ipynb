{
 "cells": [
  {
   "cell_type": "markdown",
   "id": "01927178-2fb0-4450-9019-7beeeaff7dfa",
   "metadata": {},
   "source": [
    "# 02 - Data cleaning "
   ]
  },
  {
   "cell_type": "markdown",
   "id": "03a923b8-dae8-40bb-86d9-c4d2283468a4",
   "metadata": {},
   "source": [
    "## Overview\n",
    "1. **Load data**: Import dataset from the previous stage.\n",
    "2. **Convert dtypes:** Apply selected column type conversions based on decisions from Stage 01.\n",
    "3. **Standarize columns names:** Rename all columns to `snake_case` and remove non-breaking spaces.  \n",
    "4. **Column cleanup:** Drop redundant `Row ID` and `Country` columns.\n",
    "5. **Save changes:** export cleaned version of the dataset to:  \n",
    "   `data/interim/02_silver_clean.csv` (Format changed to `.parquet`)\n",
    "\n",
    "**Goal:** Fix formatting so every column is usable."
   ]
  },
  {
   "cell_type": "markdown",
   "id": "07e53daa-07c9-4a8b-bc03-fd5db9b1583d",
   "metadata": {},
   "source": [
    "### Load data\n",
    "> Import Stage 01 CSV file "
   ]
  },
  {
   "cell_type": "code",
   "execution_count": 4,
   "id": "dec1255e-e4cd-4d1f-9a59-7a6c24546705",
   "metadata": {},
   "outputs": [
    {
     "name": "stdout",
     "output_type": "stream",
     "text": [
      "Data loaded successfully.\n"
     ]
    },
    {
     "data": {
      "text/html": [
       "<div>\n",
       "<style scoped>\n",
       "    .dataframe tbody tr th:only-of-type {\n",
       "        vertical-align: middle;\n",
       "    }\n",
       "\n",
       "    .dataframe tbody tr th {\n",
       "        vertical-align: top;\n",
       "    }\n",
       "\n",
       "    .dataframe thead th {\n",
       "        text-align: right;\n",
       "    }\n",
       "</style>\n",
       "<table border=\"1\" class=\"dataframe\">\n",
       "  <thead>\n",
       "    <tr style=\"text-align: right;\">\n",
       "      <th></th>\n",
       "      <th>Row ID</th>\n",
       "      <th>Order ID</th>\n",
       "      <th>Order Date</th>\n",
       "      <th>Ship Date</th>\n",
       "      <th>Ship Mode</th>\n",
       "      <th>Customer ID</th>\n",
       "      <th>Customer Name</th>\n",
       "      <th>Segment</th>\n",
       "      <th>Country</th>\n",
       "      <th>City</th>\n",
       "      <th>...</th>\n",
       "      <th>Postal Code</th>\n",
       "      <th>Region</th>\n",
       "      <th>Product ID</th>\n",
       "      <th>Category</th>\n",
       "      <th>Sub-Category</th>\n",
       "      <th>Product Name</th>\n",
       "      <th>Sales</th>\n",
       "      <th>Quantity</th>\n",
       "      <th>Discount</th>\n",
       "      <th>Profit</th>\n",
       "    </tr>\n",
       "  </thead>\n",
       "  <tbody>\n",
       "    <tr>\n",
       "      <th>0</th>\n",
       "      <td>1</td>\n",
       "      <td>CA-2016-152156</td>\n",
       "      <td>11/8/2016</td>\n",
       "      <td>11/11/2016</td>\n",
       "      <td>Second Class</td>\n",
       "      <td>CG-12520</td>\n",
       "      <td>Claire Gute</td>\n",
       "      <td>Consumer</td>\n",
       "      <td>United States</td>\n",
       "      <td>Henderson</td>\n",
       "      <td>...</td>\n",
       "      <td>42420</td>\n",
       "      <td>South</td>\n",
       "      <td>FUR-BO-10001798</td>\n",
       "      <td>Furniture</td>\n",
       "      <td>Bookcases</td>\n",
       "      <td>Bush Somerset Collection Bookcase</td>\n",
       "      <td>261.9600</td>\n",
       "      <td>2</td>\n",
       "      <td>0.00</td>\n",
       "      <td>41.9136</td>\n",
       "    </tr>\n",
       "    <tr>\n",
       "      <th>1</th>\n",
       "      <td>2</td>\n",
       "      <td>CA-2016-152156</td>\n",
       "      <td>11/8/2016</td>\n",
       "      <td>11/11/2016</td>\n",
       "      <td>Second Class</td>\n",
       "      <td>CG-12520</td>\n",
       "      <td>Claire Gute</td>\n",
       "      <td>Consumer</td>\n",
       "      <td>United States</td>\n",
       "      <td>Henderson</td>\n",
       "      <td>...</td>\n",
       "      <td>42420</td>\n",
       "      <td>South</td>\n",
       "      <td>FUR-CH-10000454</td>\n",
       "      <td>Furniture</td>\n",
       "      <td>Chairs</td>\n",
       "      <td>Hon Deluxe Fabric Upholstered Stacking Chairs,...</td>\n",
       "      <td>731.9400</td>\n",
       "      <td>3</td>\n",
       "      <td>0.00</td>\n",
       "      <td>219.5820</td>\n",
       "    </tr>\n",
       "    <tr>\n",
       "      <th>2</th>\n",
       "      <td>3</td>\n",
       "      <td>CA-2016-138688</td>\n",
       "      <td>6/12/2016</td>\n",
       "      <td>6/16/2016</td>\n",
       "      <td>Second Class</td>\n",
       "      <td>DV-13045</td>\n",
       "      <td>Darrin Van Huff</td>\n",
       "      <td>Corporate</td>\n",
       "      <td>United States</td>\n",
       "      <td>Los Angeles</td>\n",
       "      <td>...</td>\n",
       "      <td>90036</td>\n",
       "      <td>West</td>\n",
       "      <td>OFF-LA-10000240</td>\n",
       "      <td>Office Supplies</td>\n",
       "      <td>Labels</td>\n",
       "      <td>Self-Adhesive Address Labels for Typewriters b...</td>\n",
       "      <td>14.6200</td>\n",
       "      <td>2</td>\n",
       "      <td>0.00</td>\n",
       "      <td>6.8714</td>\n",
       "    </tr>\n",
       "    <tr>\n",
       "      <th>3</th>\n",
       "      <td>4</td>\n",
       "      <td>US-2015-108966</td>\n",
       "      <td>10/11/2015</td>\n",
       "      <td>10/18/2015</td>\n",
       "      <td>Standard Class</td>\n",
       "      <td>SO-20335</td>\n",
       "      <td>Sean O'Donnell</td>\n",
       "      <td>Consumer</td>\n",
       "      <td>United States</td>\n",
       "      <td>Fort Lauderdale</td>\n",
       "      <td>...</td>\n",
       "      <td>33311</td>\n",
       "      <td>South</td>\n",
       "      <td>FUR-TA-10000577</td>\n",
       "      <td>Furniture</td>\n",
       "      <td>Tables</td>\n",
       "      <td>Bretford CR4500 Series Slim Rectangular Table</td>\n",
       "      <td>957.5775</td>\n",
       "      <td>5</td>\n",
       "      <td>0.45</td>\n",
       "      <td>-383.0310</td>\n",
       "    </tr>\n",
       "    <tr>\n",
       "      <th>4</th>\n",
       "      <td>5</td>\n",
       "      <td>US-2015-108966</td>\n",
       "      <td>10/11/2015</td>\n",
       "      <td>10/18/2015</td>\n",
       "      <td>Standard Class</td>\n",
       "      <td>SO-20335</td>\n",
       "      <td>Sean O'Donnell</td>\n",
       "      <td>Consumer</td>\n",
       "      <td>United States</td>\n",
       "      <td>Fort Lauderdale</td>\n",
       "      <td>...</td>\n",
       "      <td>33311</td>\n",
       "      <td>South</td>\n",
       "      <td>OFF-ST-10000760</td>\n",
       "      <td>Office Supplies</td>\n",
       "      <td>Storage</td>\n",
       "      <td>Eldon Fold 'N Roll Cart System</td>\n",
       "      <td>22.3680</td>\n",
       "      <td>2</td>\n",
       "      <td>0.20</td>\n",
       "      <td>2.5164</td>\n",
       "    </tr>\n",
       "  </tbody>\n",
       "</table>\n",
       "<p>5 rows × 21 columns</p>\n",
       "</div>"
      ],
      "text/plain": [
       "   Row ID        Order ID  Order Date   Ship Date       Ship Mode Customer ID  \\\n",
       "0       1  CA-2016-152156   11/8/2016  11/11/2016    Second Class    CG-12520   \n",
       "1       2  CA-2016-152156   11/8/2016  11/11/2016    Second Class    CG-12520   \n",
       "2       3  CA-2016-138688   6/12/2016   6/16/2016    Second Class    DV-13045   \n",
       "3       4  US-2015-108966  10/11/2015  10/18/2015  Standard Class    SO-20335   \n",
       "4       5  US-2015-108966  10/11/2015  10/18/2015  Standard Class    SO-20335   \n",
       "\n",
       "     Customer Name    Segment        Country             City  ...  \\\n",
       "0      Claire Gute   Consumer  United States        Henderson  ...   \n",
       "1      Claire Gute   Consumer  United States        Henderson  ...   \n",
       "2  Darrin Van Huff  Corporate  United States      Los Angeles  ...   \n",
       "3   Sean O'Donnell   Consumer  United States  Fort Lauderdale  ...   \n",
       "4   Sean O'Donnell   Consumer  United States  Fort Lauderdale  ...   \n",
       "\n",
       "  Postal Code  Region       Product ID         Category Sub-Category  \\\n",
       "0       42420   South  FUR-BO-10001798        Furniture    Bookcases   \n",
       "1       42420   South  FUR-CH-10000454        Furniture       Chairs   \n",
       "2       90036    West  OFF-LA-10000240  Office Supplies       Labels   \n",
       "3       33311   South  FUR-TA-10000577        Furniture       Tables   \n",
       "4       33311   South  OFF-ST-10000760  Office Supplies      Storage   \n",
       "\n",
       "                                        Product Name     Sales  Quantity  \\\n",
       "0                  Bush Somerset Collection Bookcase  261.9600         2   \n",
       "1  Hon Deluxe Fabric Upholstered Stacking Chairs,...  731.9400         3   \n",
       "2  Self-Adhesive Address Labels for Typewriters b...   14.6200         2   \n",
       "3      Bretford CR4500 Series Slim Rectangular Table  957.5775         5   \n",
       "4                     Eldon Fold 'N Roll Cart System   22.3680         2   \n",
       "\n",
       "   Discount    Profit  \n",
       "0      0.00   41.9136  \n",
       "1      0.00  219.5820  \n",
       "2      0.00    6.8714  \n",
       "3      0.45 -383.0310  \n",
       "4      0.20    2.5164  \n",
       "\n",
       "[5 rows x 21 columns]"
      ]
     },
     "execution_count": 4,
     "metadata": {},
     "output_type": "execute_result"
    }
   ],
   "source": [
    "# Import Pandas\n",
    "import pandas as pd\n",
    "\n",
    "# Load bronze stage data\n",
    "file_path = '../data/interim/01_bronze_intake.csv'\n",
    "df = pd.read_csv(file_path)\n",
    "\n",
    "# Check results\n",
    "print('Data loaded successfully.')\n",
    "df.head()"
   ]
  },
  {
   "cell_type": "markdown",
   "id": "798fe6dc-3579-4e0d-b96c-e2ae830259d8",
   "metadata": {},
   "source": [
    "### Convert dtypes\n",
    "> Change dtypes according finding from the previous stage."
   ]
  },
  {
   "cell_type": "markdown",
   "id": "0a2272ad-052a-4fe4-8295-17317f80e799",
   "metadata": {},
   "source": [
    "Take column idexes manualy from previous notebook."
   ]
  },
  {
   "cell_type": "code",
   "execution_count": 7,
   "id": "7c6c977a-a9eb-44ce-96b7-744ddb578008",
   "metadata": {},
   "outputs": [
    {
     "data": {
      "text/plain": [
       "Row ID                     int64\n",
       "Order ID         string[pyarrow]\n",
       "Order Date        datetime64[ns]\n",
       "Ship Date         datetime64[ns]\n",
       "Ship Mode               category\n",
       "Customer ID      string[pyarrow]\n",
       "Customer Name    string[pyarrow]\n",
       "Segment                 category\n",
       "Country                 category\n",
       "City             string[pyarrow]\n",
       "State                   category\n",
       "Postal Code      string[pyarrow]\n",
       "Region                  category\n",
       "Product ID       string[pyarrow]\n",
       "Category                category\n",
       "Sub-Category            category\n",
       "Product Name     string[pyarrow]\n",
       "Sales                    float64\n",
       "Quantity                   int64\n",
       "Discount                 float64\n",
       "Profit                   float64\n",
       "dtype: object"
      ]
     },
     "execution_count": 7,
     "metadata": {},
     "output_type": "execute_result"
    }
   ],
   "source": [
    "# Copy comlums indexes from 01_data_intake.ipynb\n",
    "str_cols = [1, 5, 6, 9, 11, 13, 16]\n",
    "cat_cols = [4, 7, 8, 10, 12, 14, 15]\n",
    "dt_cols = [2, 3]\n",
    "\n",
    "# Get column names by index\n",
    "str_cols = df.columns[str_cols]\n",
    "cat_cols = df.columns[cat_cols]\n",
    "dt_cols = df.columns[dt_cols]\n",
    "\n",
    "# Convert dtypes\n",
    "\n",
    "# Convert to 'string[pyarrow]' instead of 'string[python]' better speed and smaller memory footprint\n",
    "df[str_cols]= df[str_cols].astype('string[pyarrow]') \n",
    "\n",
    "df[cat_cols]= df[cat_cols].astype('category')\n",
    "\n",
    "for col in dt_cols:\n",
    "    df[col] = pd.to_datetime(df[col], dayfirst=False, yearfirst=True)\n",
    "\n",
    "# Check reults\n",
    "df.dtypes"
   ]
  },
  {
   "cell_type": "markdown",
   "id": "1c565583-cd46-4fa4-a4c6-3c8e9e0c10cc",
   "metadata": {},
   "source": [
    "### Standarize columns names\n",
    "> Rename all columns to `snake_case` and remove non-breaking spaces for consistency and readability."
   ]
  },
  {
   "cell_type": "code",
   "execution_count": 9,
   "id": "f7cfe866-8de9-47d8-8eba-6c05a3532acf",
   "metadata": {},
   "outputs": [
    {
     "data": {
      "text/plain": [
       "Index(['row_id', 'order_id', 'order_date', 'ship_date', 'ship_mode',\n",
       "       'customer_id', 'customer_name', 'segment', 'country', 'city', 'state',\n",
       "       'postal_code', 'region', 'product_id', 'category', 'sub_category',\n",
       "       'product_name', 'sales', 'quantity', 'discount', 'profit'],\n",
       "      dtype='object')"
      ]
     },
     "execution_count": 9,
     "metadata": {},
     "output_type": "execute_result"
    }
   ],
   "source": [
    "df.columns = (\n",
    "    df.columns\n",
    "      .str.strip()                 # remove extra spaces\n",
    "      .str.replace(r'\\s+', '_', regex=True)  # spaces → underscores\n",
    "      .str.replace('-', '_', regex=False)     # dashes → underscores\n",
    "      .str.lower()                 # lowercase\n",
    ")\n",
    "\n",
    "# Check results\n",
    "df.columns "
   ]
  },
  {
   "cell_type": "markdown",
   "id": "b08ecb33-c54b-4ce7-af32-cfc58d0ae3e4",
   "metadata": {},
   "source": [
    "### Column cleanup \n",
    "> rename, remove empty, duplicated or constant columns."
   ]
  },
  {
   "cell_type": "markdown",
   "id": "16680472-0198-4b5d-88f1-2d56f6c028ef",
   "metadata": {},
   "source": [
    "In the previous stage, we identified `row_id` and `country` as non-informative features. Since they provide no analytical value, they will be removed."
   ]
  },
  {
   "cell_type": "code",
   "execution_count": 12,
   "id": "d5e08128-958f-488a-93e1-a822f2449b3f",
   "metadata": {},
   "outputs": [
    {
     "name": "stdout",
     "output_type": "stream",
     "text": [
      "Column removed succesfully\n"
     ]
    },
    {
     "data": {
      "text/plain": [
       "Index(['order_id', 'order_date', 'ship_date', 'ship_mode', 'customer_id',\n",
       "       'customer_name', 'segment', 'city', 'state', 'postal_code', 'region',\n",
       "       'product_id', 'category', 'sub_category', 'product_name', 'sales',\n",
       "       'quantity', 'discount', 'profit'],\n",
       "      dtype='object')"
      ]
     },
     "execution_count": 12,
     "metadata": {},
     "output_type": "execute_result"
    }
   ],
   "source": [
    "# Drop columns\n",
    "df = df.drop(columns = ['row_id','country'])\n",
    "\n",
    "# Check results\n",
    "print('Column removed succesfully')\n",
    "df.shape\n",
    "df.columns"
   ]
  },
  {
   "cell_type": "markdown",
   "id": "0ae61b0c-392e-43ee-a029-7931c5509461",
   "metadata": {},
   "source": [
    "### Save changes\n",
    "> Scince cleaning stage is complete, export cleaned version of the dataset."
   ]
  },
  {
   "cell_type": "markdown",
   "id": "6fff2f4c-0855-4cf3-aee9-03811339faf1",
   "metadata": {},
   "source": [
    "Change export file format to Parquet in order to preserve dtypes."
   ]
  },
  {
   "cell_type": "code",
   "execution_count": 15,
   "id": "b3044d3f-d2b6-449a-81c6-4fed6b5d92a3",
   "metadata": {},
   "outputs": [
    {
     "name": "stdout",
     "output_type": "stream",
     "text": [
      "Copy is saved\n"
     ]
    }
   ],
   "source": [
    "df.to_parquet('../data/interim/02_silver_cleaned.parquet')\n",
    "print('Copy is saved')"
   ]
  },
  {
   "cell_type": "markdown",
   "id": "fa6dac27-8d17-4bfd-9e78-f563e2aaf4bc",
   "metadata": {},
   "source": [
    "A summary of this stage is documented separately in `/reports/02_data_cleaning.md`."
   ]
  }
 ],
 "metadata": {
  "kernelspec": {
   "display_name": "Python [conda env:base] *",
   "language": "python",
   "name": "conda-base-py"
  },
  "language_info": {
   "codemirror_mode": {
    "name": "ipython",
    "version": 3
   },
   "file_extension": ".py",
   "mimetype": "text/x-python",
   "name": "python",
   "nbconvert_exporter": "python",
   "pygments_lexer": "ipython3",
   "version": "3.12.7"
  }
 },
 "nbformat": 4,
 "nbformat_minor": 5
}
